{
  "cells": [
    {
      "cell_type": "markdown",
      "metadata": {},
      "source": [
        "---\n",
        "title: \"Introduction to Python Programming\"\n",
        "author: \"Your Name\"\n",
        "format: html\n",
        "---\n",
        "\n",
        "\n",
        "\n",
        "\n",
        "# Introduction to Python\n",
        "\n",
        "In this tutorial, we will cover the basics of Python programming, including data types, keywords, variables, input/output statements, operators, arithmetic expressions, operator precedence, and evaluation of expressions.\n",
        "\n",
        "## Data Types\n",
        "\n",
        "Python supports several built-in data types. Let's explore some of the most common ones:\n",
        "\n",
        "- **Integer (`int`)**: Represents whole numbers.\n",
        "- **Floating Point (`float`)**: Represents decimal numbers.\n",
        "- **String (`str`)**: Represents sequences of characters.\n",
        "- **Boolean (`bool`)**: Represents `True` or `False`.\n",
        "\n",
        "### Example\n"
      ],
      "id": "1b7975cf"
    },
    {
      "cell_type": "code",
      "metadata": {},
      "source": [
        "# Demonstrating different data types\n",
        "\n",
        "# Integer\n",
        "a = 10\n",
        "print(\"Integer:\", a, type(a))\n",
        "\n",
        "# Float\n",
        "b = 3.14\n",
        "print(\"Float:\", b, type(b))\n",
        "\n",
        "\n",
        "# String\n",
        "c = \"Hello, Python!\"\n",
        "print(\"String:\", c, type(c))\n",
        "\n",
        "# Boolean\n",
        "d = True\n",
        "print(\"Boolean:\", d, type(d))"
      ],
      "id": "4b8cdae5",
      "execution_count": null,
      "outputs": []
    },
    {
      "cell_type": "markdown",
      "metadata": {},
      "source": [
        "## Variables\n",
        "Variables are used to store data in memory. A variable is created when you assign a value to it using the = operator.\n"
      ],
      "id": "f3259b21"
    },
    {
      "cell_type": "code",
      "metadata": {},
      "source": [
        "# Variable assignment\n",
        "\n",
        "x = 5\n",
        "y = 2.5\n",
        "z = x + y\n",
        "\n",
        "print(\"x =\", x)\n",
        "print(\"y =\", y)\n",
        "print(\"z =\", z)\n"
      ],
      "id": "d9e9a0fd",
      "execution_count": null,
      "outputs": []
    },
    {
      "cell_type": "markdown",
      "metadata": {},
      "source": [
        "## Input and Output Statements\n",
        "Python provides the input() function to take user input and the print() function to display output.\n"
      ],
      "id": "24110e00"
    },
    {
      "cell_type": "code",
      "metadata": {},
      "source": [
        "# Input and Output\n",
        "name=\"justin\"\n",
        "age=32\n",
        "#name = input(\"Enter your name: \")\n",
        "#age = int(input(\"Enter your age: \"))\n",
        "\n",
        "print(f\"Hello, {name}! You are {age} years old.\")\n"
      ],
      "id": "c4d7d9c8",
      "execution_count": null,
      "outputs": []
    },
    {
      "cell_type": "markdown",
      "metadata": {},
      "source": [
        "## Operators\n",
        "Operators are special symbols used to perform operations on variables and values. Python supports several types of operators:\n",
        "\n",
        "Arithmetic Operators: +, -, *, /, //, %, **\n",
        "Comparison Operators: ==, !=, >, <, >=, <=\n",
        "Logical Operators: and, or, not\n",
        "Assignment Operators: =, +=, -=, *=, /=, //=, %=, **=\n"
      ],
      "id": "7906266e"
    },
    {
      "cell_type": "code",
      "metadata": {},
      "source": [
        "# Arithmetic Operations\n",
        "\n",
        "a = 15\n",
        "b = 4\n",
        "\n",
        "addition = a + b\n",
        "subtraction = a - b\n",
        "multiplication = a * b\n",
        "division = a / b\n",
        "floor_division = a // b\n",
        "modulus = a % b\n",
        "exponentiation = a ** b\n",
        "\n",
        "print(\"Addition:\", addition)\n",
        "print(\"Subtraction:\", subtraction)\n",
        "print(\"Multiplication:\", multiplication)\n",
        "print(\"Division:\", division)\n",
        "print(\"Floor Division:\", floor_division)\n",
        "print(\"Modulus:\", modulus)\n",
        "print(\"Exponentiation:\", exponentiation)"
      ],
      "id": "1b38fbf3",
      "execution_count": null,
      "outputs": []
    },
    {
      "cell_type": "markdown",
      "metadata": {},
      "source": [
        "## Arithmetic Expressions\n",
        "An arithmetic expression is a combination of numbers, operators, and variables that evaluates to a value.\n"
      ],
      "id": "b09d8af3"
    },
    {
      "cell_type": "code",
      "metadata": {},
      "source": [
        "# Evaluating arithmetic expressions\n",
        "\n",
        "expression = (5 + 2) * (10 - 3) / 2 ** 2\n",
        "print(\"Expression Result:\", expression)"
      ],
      "id": "04035846",
      "execution_count": null,
      "outputs": []
    },
    {
      "cell_type": "markdown",
      "metadata": {},
      "source": [
        "## Operator Precedence\n",
        "Operator precedence determines the order in which operations are performed in an expression. The following list shows the precedence from highest to lowest:\n",
        "\n",
        "** (Exponentiation)\n",
        "*, /, //, % (Multiplication, Division, Floor Division, Modulus)\n",
        "+, - (Addition, Subtraction)\n"
      ],
      "id": "183c205e"
    },
    {
      "cell_type": "code",
      "metadata": {},
      "source": [
        "# Operator precedence\n",
        "\n",
        "result = 5 + 3 * 2 ** 2 - 1\n",
        "print(\"Operator Precedence Result:\", result)"
      ],
      "id": "bd7895ea",
      "execution_count": null,
      "outputs": []
    },
    {
      "cell_type": "markdown",
      "metadata": {},
      "source": [
        "## Evaluation of Expressions\n",
        "Python evaluates expressions from left to right, following the precedence rules.\n"
      ],
      "id": "823c4a3d"
    },
    {
      "cell_type": "code",
      "metadata": {},
      "source": [
        "# Evaluation of expressions\n",
        "\n",
        "value = (10 + 5) * 2 - 3 / 3\n",
        "print(\"Evaluation Result:\", value)"
      ],
      "id": "835804dc",
      "execution_count": null,
      "outputs": []
    }
  ],
  "metadata": {
    "kernelspec": {
      "name": "python3",
      "language": "python",
      "display_name": "Python 3 (ipykernel)",
      "path": "C:\\Users\\Alisha Shaji\\AppData\\Roaming\\Python\\share\\jupyter\\kernels\\python3"
    }
  },
  "nbformat": 4,
  "nbformat_minor": 5
}